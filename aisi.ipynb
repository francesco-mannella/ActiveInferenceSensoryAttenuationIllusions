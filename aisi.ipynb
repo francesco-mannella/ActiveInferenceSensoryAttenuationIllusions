{
  "cells": [
    {
      "cell_type": "markdown",
      "source": [
        "\n",
        "# ActiveInferenceSensoryAttenuationIllusions\n",
        "Implementation of the model described in :\n",
        "\n",
        "***Active inference, sensory attenuation and illusions***. Brown, H., Adams, R. A., Parees, I., Edwards, M., & Friston, K. (2013). Cognitive Processing, 14(4), 411–427. [https://doi.org/10.1007/s10339-013-0571-3]( https://doi.org/10.1007/s10339-013-0571-3)\n"
      ],
      "metadata": {
        "nteract": {
          "transient": {
            "deleting": false
          }
        }
      }
    },
    {
      "cell_type": "markdown",
      "source": [
        " Generative Process\n",
        "\n",
        "$$\n",
        "\\begin{array}{llll}\n",
        "    \\mathbf{s} &= & \\left[\\begin{array}{c} s_p \\\\ s_s\\end{array}\\right] &= &\n",
        "    \\left[\\begin{array}{c} x_i \\\\ x_i + v_e \\end{array}\\right] +\n",
        "    \\boldsymbol{\\omega}_s & & & &\\\\\n",
        " \\dot{x} &= & \\dot{x}_i &= & \\sigma{\\alpha}\n",
        "    \\frac{1}{4} x_i + \\omega_x\\\\\n",
        " \\boldsymbol{\\omega}_s &\\sim & \\mathcal{N}(\\mathbf{0},\n",
        "      e ^ {-8} \\mathbf{I})\\\\\n",
        " \\omega_x &\\sim & \\mathcal{N}(0, e ^ {-8})\n",
        " \\end{array}\n",
        "$$\n"
      ],
      "metadata": {
        "nteract": {
          "transient": {
            "deleting": false
          }
        }
      }
    },
    {
      "cell_type": "markdown",
      "source": [
        " Generative Model\n",
        "$$\n",
        "\\begin{array}{lllll}\n",
        "\\mathbf{s} &= & \\left[\\begin{array}{c} s_p \\\\ s_s\\end{array}\\right] &= &\n",
        "\\left[\\begin{array}{c} x_i \\\\ x_i + x_e \\end{array}\\right] +\n",
        "\\boldsymbol{\\omega}_s & & & &\\\\\n",
        "    \\mathbf{\\dot{x}} &= & \\left[\\begin{array}{c} \\dot{x_i} \\\\ \\dot{x}_e\n",
        "    \\end{array}\\right] & = &\n",
        "\\left[\\begin{array}{c} \\nu_i -\\frac{1}{4} \\dot{x}_i\\\\\n",
        "      \\nu_e -\\frac{1}{4} \\dot{x}_e\\end{array}\\right] +\n",
        "\\boldsymbol{\\omega}_s & & & &\\\\\n",
        "\\boldsymbol{\\nu} &&&=& \\left[\\begin{array}{c} \\nu_i \\\\ \\nu_e\n",
        "  \\end{array}\\right] + \\boldsymbol{\\omega}_{\\nu}\\\\\n",
        "\\boldsymbol{\\omega}_s &\\sim&\n",
        "   \\mathcal{N}(\\mathbf{0}, e^{\\pi} \\mathbf{I})\\\\\n",
        "\\boldsymbol{\\omega}_x &\\sim&\n",
        "   \\mathcal{N}(\\mathbf{0}, e^{-4} \\mathbf{I})\\\\\n",
        "\\boldsymbol{\\omega}_\\nu &\\sim&\n",
        "   \\mathcal{N}(\\mathbf{0}, e^{-6} \\mathbf{I})\\\\\n",
        "\\pi &=& 8-\\gamma\\sigma(x_i + \\nu_i)\n",
        "\\end{array}\n",
        "$$\n"
      ],
      "metadata": {
        "nteract": {
          "transient": {
            "deleting": false
          }
        }
      }
    },
    {
      "cell_type": "markdown",
      "source": [
        "\n",
        " Variational Laplace Encoded Free Energy\n",
        "$$\n",
        " \\begin{array}{lllll}\n",
        "  F &=& -log(P(s, \\boldsymbol{\\mu}_x, \\boldsymbol{\\mu}_\\boldsymbol{\\nu})) + C \\\\\n",
        "  &=& -log(P(s|\\boldsymbol{\\mu}_x)P(\\dot{\\boldsymbol{\\mu}}_{x}|\\boldsymbol{\\mu}_x,\n",
        "    \\boldsymbol{\\mu}_\\boldsymbol{\\nu})P(\\dot{\\boldsymbol{\\mu}}_\n",
        "      \\boldsymbol{\\nu}|\\boldsymbol{\\mu}_\\boldsymbol{\\nu})) + C  \\\\\n",
        "  &=& -log(\n",
        "    \\mathcal{N}( g(\\boldsymbol{\\mu}_x),  e^{-\\pi}\\mathbf{I})\n",
        "    \\mathcal{N}( f(\\boldsymbol{\\mu}_x,\\boldsymbol{\\mu}_\\nu), e^{-4}\\mathbf{I})\n",
        "    \\mathcal{N}(\\boldsymbol{\\mu}_{\\nu}, e^{-6}\\mathbf{I})\n",
        "  ) + C  \\\\\n",
        "\n",
        " \\end{array}\n",
        "$$"
      ],
      "metadata": {
        "nteract": {
          "transient": {
            "deleting": false
          }
        }
      }
    }
  ],
  "metadata": {
    "kernelspec": {
      "argv": [
        "python",
        "-m",
        "ipykernel_launcher",
        "-f",
        "{connection_file}"
      ],
      "display_name": "Python 3",
      "language": "python",
      "name": "python3"
    }
  },
  "nbformat": 4,
  "nbformat_minor": 0
}
