{
  "cells": [
    {
      "cell_type": "markdown",
      "source": [
        "# ActiveInferenceSensoryAttenuationIllusions\n",
        "\n",
        "Implementation of the model described in :\n",
        "\n",
        " ***Active inference, sensory attenuation and illusions***. Brown, H.,\n",
        " Adams, R. A., Parees, I., Edwards, M., & Friston, K. (2013). Cognitive\n",
        " Processing, 14(4), 411–427. [https://doi.org/10.1007/s10339-013-0571-3](\n",
        " https://doi.org/10.1007/s10339-013-0571-3)\n"
      ],
      "metadata": {
        "nteract": {
          "transient": {
            "deleting": false
          }
        }
      }
    },
    {
      "cell_type": "markdown",
      "source": [
        " Generative Process\n",
        "\n",
        "$$\n",
        "\\begin{array}{llll}\n",
        "  \\mathbf{s} &= & \\left[\\begin{array}{c} s_p \\\\ s_s\\end{array}\\right] &= &\n",
        "  \\left[\\begin{array}{c} x_i \\\\ x_i + v_e \\end{array}\\right] +\n",
        "  \\boldsymbol{\\omega}_s & & & &\\\\ \\dot{x} &= & \\dot{x}_i &= &\n",
        "  \\operatorname{\\sigma}{\\left(\\alpha\\right)}\n",
        "  - h x_i + \\omega_x\\\\ \\boldsymbol{\\omega}_s &\\sim &\n",
        "  \\mathcal{N}(\\mathbf{0}, e ^ {-8} \\mathbf{I})\\\\ \\omega_x &\\sim &\n",
        "  \\mathcal{N}(0, e ^ {-8}) \\\\ h &=& \\frac{1}{4}\n",
        " \\end{array}\n",
        "$$\n"
      ],
      "metadata": {
        "nteract": {
          "transient": {
            "deleting": false
          }
        }
      }
    },
    {
      "cell_type": "markdown",
      "source": [
        " Generative Model\n",
        "$$\n",
        "\\begin{array}{lllll}\n",
        "\\mathbf{s} &= & \\left[\\begin{array}{c} s_p \\\\ s_s\\end{array}\\right] &= &\n",
        "\\left[\\begin{array}{c} x_i \\\\ x_i + x_e \\end{array}\\right] +\n",
        "\\boldsymbol{\\omega}_s & & & &\\\\ \\mathbf{\\dot{x}} &= & \\left[\\begin{array}{c}\n",
        "\\dot{x_i} \\\\ \\dot{x}_e \\end{array}\\right] & = & \\left[\\begin{array}{c} \\nu_i\n",
        "-h \\dot{x}_i\\\\ \\nu_e -h \\dot{x}_e\\end{array}\\right] +\n",
        "\\boldsymbol{\\omega}_s & & & &\\\\ \\boldsymbol{\\nu} &&&=& \\left[\\begin{array}{c}\n",
        "\\nu_i \\\\ \\nu_e \\end{array}\\right] + \\boldsymbol{\\omega}_{\\nu}\\\\\n",
        "\\boldsymbol{\\omega}_s &\\sim& \\mathcal{N}(\\mathbf{0}, e^{\\pi} \\mathbf{I})\\\\\n",
        "\\boldsymbol{\\omega}_x &\\sim& \\mathcal{N}(\\mathbf{0}, e^{-4} \\mathbf{I})\\\\\n",
        "\\boldsymbol{\\omega}_\\nu &\\sim& \\mathcal{N}(\\mathbf{0}, e^{-6} \\mathbf{I})\\\\\n",
        "\\pi &=& 8-\\gamma\\operatorname{\\sigma}{\\left(x_i + \\nu_i\\right)}\\\\\n",
        "h &=& \\frac{1}{4}\n",
        "\\end{array}\n",
        "$$\n"
      ],
      "metadata": {
        "nteract": {
          "transient": {
            "deleting": false
          }
        }
      }
    },
    {
      "cell_type": "markdown",
      "source": [
        "Variational Laplace Encoded Free Energy\n",
        "\n",
        "$$\n",
        " \\begin{array}{lll}\n",
        "  F &=& -log(P(s, \\boldsymbol{\\mu}_x, \\boldsymbol{\\mu}_\\boldsymbol{\\nu})) + C\n",
        "  \\\\ &=&\n",
        "  -log(P(s|\\boldsymbol{\\mu}_x)P(\\dot{\\boldsymbol{\\mu}}_{x}|\\boldsymbol{\\mu}_x,\n",
        "  \\boldsymbol{\\mu}_\\boldsymbol{\\nu})P(\\dot{\\boldsymbol{\\mu}}_\n",
        "  \\boldsymbol{\\nu}|\\boldsymbol{\\mu}_\\boldsymbol{\\nu})) + C  \\\\ &=& -log(\n",
        "  \\mathcal{N}( g(\\boldsymbol{\\mu}_x),  e^{-\\pi}\\mathbf{I}) \\mathcal{N}(\n",
        "  f(\\boldsymbol{\\mu}_x,\\boldsymbol{\\mu}_\\nu), e^{-4}\\mathbf{I})\n",
        "  \\mathcal{N}(\\boldsymbol{\\mu}_{\\nu}, e^{-6}\\mathbf{I}) ) + C  \\\\\n",
        " \\end{array}\n",
        "$$"
      ],
      "metadata": {
        "nteract": {
          "transient": {
            "deleting": false
          }
        }
      }
    },
    {
      "cell_type": "markdown",
      "source": [
        "Gradients:\n",
        "\n",
        "$$\n",
        "\\begin{array}{lll}\n",
        "  - \\frac{\\partial F}{\\partial \\left[\\begin{matrix}\\mu_{x_i}\n",
        "  \\\\\\mu_{x_e}\\end{matrix} \\right]} &=& \\left[\\begin{matrix}- \\frac{-\n",
        "  \\mu_{\\nu_i} h +  \\mu_{x_i} h^{2} + d\\mu_{x_i} h}{\\sigma_x} - \\frac{\n",
        "  \\mu_{x_e} + 2 \\mu_{x_i} -  s_{p} - s_{s}}{\\sigma_s}\\\\ - \\frac{- \\mu_{\\nu_e}\n",
        "  h +  \\mu_{x_e} h^{2} + d\\mu_{x_e} h}{\\sigma_x} - \\frac{ \\mu_{x_e} +\n",
        "  \\mu_{x_i} -  s_{s}}{\\sigma_s} \\end{matrix}\\right] \\\\\n",
        "  - \\frac{\\partial F}{\\partial \\left[\\begin{matrix}d\\mu_{x_i}\n",
        "  \\\\d\\mu_{x_e}\\end{matrix}\\right]} &=& \\left[\\begin{matrix}- \\frac{ \\left(-\n",
        "  \\mu_{\\nu_i} + \\mu_{x_i} h + d\\mu_{x_i}\\right)} {\\sigma_x}\\\\- \\frac{ \\left(-\n",
        "  \\mu_{\\nu_e} + \\mu_{x_e} h + d\\mu_{x_e}\\right)}{\\sigma_x} \\end{matrix}\n",
        "  \\right] \\\\\n",
        "- \\frac{\\partial F}{\\partial a} &=& - \\frac{- \\mu_{x_e} \\frac{\\partial\n",
        "\\operatorname{s_{s}}{\\left(a \\right)}}{\\partial a} - \\mu_{x_i} \\frac{\\partial\n",
        "\\operatorname{s_{p}}{\\left(a \\right)}}{\\partial a} - \\mu_{x_i} \\frac{\\partial\n",
        "\\operatorname{s_{s}}{\\left(a \\right)}}{\\partial a} +\n",
        "\\operatorname{s_{p}}{\\left(a \\right)} \\frac{\\partial\n",
        "\\operatorname{s_{p}}{\\left(a \\right)}}{\\partial a} +\n",
        "\\operatorname{s_{s}}{\\left(a \\right)} \\frac{\\partial\n",
        "\\operatorname{s_{s}}{\\left(a \\right)}}{\\partial a}}{\\sigma_s}\n",
        "\\end{array}\n",
        "$$"
      ],
      "metadata": {
        "nteract": {
          "transient": {
            "deleting": false
          }
        }
      }
    }
  ],
  "metadata": {
    "kernelspec": {
      "argv": [
        "python",
        "-m",
        "ipykernel_launcher",
        "-f",
        "{connection_file}"
      ],
      "display_name": "Python 3",
      "language": "python",
      "name": "python3"
    }
  },
  "nbformat": 4,
  "nbformat_minor": 0
}