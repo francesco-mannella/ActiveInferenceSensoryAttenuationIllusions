{
 "cells": [
  {
   "cell_type": "markdown",
   "metadata": {
    "nteract": {
     "transient": {
      "deleting": false
     }
    }
   },
   "source": [
    "# ActiveInferenceSensoryAttenuationIllusions\n",
    "\n",
    "Implementation of the model described in :\n",
    "\n",
    " ***Active inference, sensory attenuation and illusions***. Brown, H.,\n",
    " Adams, R. A., Parees, I., Edwards, M., & Friston, K. (2013). Cognitive\n",
    " Processing, 14(4), 411–427. [https://doi.org/10.1007/s10339-013-0571-3](\n",
    " https://doi.org/10.1007/s10339-013-0571-3)\n"
   ]
  },
  {
   "cell_type": "markdown",
   "metadata": {
    "nteract": {
     "transient": {
      "deleting": false
     }
    }
   },
   "source": [
    " Generative Process\n",
    "\n",
    "$$\n",
    "\\begin{array}{llll}\n",
    "  \\mathbf{s} &= & \\left[\\begin{array}{c} s_p \\\\ s_s\\end{array}\\right] &= &\n",
    "  \\left[\\begin{array}{c} x_i \\\\ x_i + v_e \\end{array}\\right] +\n",
    "  \\boldsymbol{\\omega}_s & & & &\\\\ \\dot{x} &= & \\dot{x}_i &= &\n",
    "  \\operatorname{\\sigma}{\\left(\\alpha\\right)}\n",
    "  - h x_i + \\omega_x\\\\ \\boldsymbol{\\omega}_s &\\sim &\n",
    "  \\mathcal{N}(\\mathbf{0}, e ^ {-8} \\mathbf{I})\\\\ \\omega_x &\\sim &\n",
    "  \\mathcal{N}(0, e ^ {-8}) \\\\ h &=& \\frac{1}{4}\n",
    " \\end{array}\n",
    "$$\n"
   ]
  },
  {
   "cell_type": "markdown",
   "metadata": {
    "nteract": {
     "transient": {
      "deleting": false
     }
    }
   },
   "source": [
    " Generative Model\n",
    "$$\n",
    "\\begin{array}{lllll}\n",
    "\\mathbf{s} &= & \\left[\\begin{array}{c} s_p \\\\ s_s\\end{array}\\right] &= &\n",
    "\\left[\\begin{array}{c} x_i \\\\ x_i + x_e \\end{array}\\right] +\n",
    "\\boldsymbol{\\omega}_s & & & &\\\\ \\mathbf{\\dot{x}} &= & \\left[\\begin{array}{c}\n",
    "\\dot{x_i} \\\\ \\dot{x}_e \\end{array}\\right] & = & \\left[\\begin{array}{c} \\nu_i\n",
    "-h \\dot{x}_i\\\\ \\nu_e -h \\dot{x}_e\\end{array}\\right] +\n",
    "\\boldsymbol{\\omega}_s & & & &\\\\ \\boldsymbol{\\nu} &&&=& \\left[\\begin{array}{c}\n",
    "\\nu_i \\\\ \\nu_e \\end{array}\\right] + \\boldsymbol{\\omega}_{\\nu}\\\\\n",
    "\\boldsymbol{\\omega}_s &\\sim& \\mathcal{N}(\\mathbf{0}, e^{\\pi} \\mathbf{I})\\\\\n",
    "\\boldsymbol{\\omega}_x &\\sim& \\mathcal{N}(\\mathbf{0}, e^{-4} \\mathbf{I})\\\\\n",
    "\\boldsymbol{\\omega}_\\nu &\\sim& \\mathcal{N}(\\mathbf{0}, e^{-6} \\mathbf{I})\\\\\n",
    "\\pi &=& 8-\\gamma\\operatorname{\\sigma}{\\left(x_i + \\nu_i\\right)}\\\\\n",
    "h &=& \\frac{1}{4}\n",
    "\\end{array}\n",
    "$$\n"
   ]
  },
  {
   "cell_type": "markdown",
   "metadata": {
    "nteract": {
     "transient": {
      "deleting": false
     }
    }
   },
   "source": [
    "Variational Laplace Encoded Free Energy\n",
    "\n",
    "$$\n",
    " \\begin{array}{lll}\n",
    "  F &=& -log(P(s, \\boldsymbol{\\mu}_x, \\boldsymbol{\\mu}_\\boldsymbol{\\nu})) + C\n",
    "  \\\\ &=&\n",
    "  -log(P(s|\\boldsymbol{\\mu}_x)P(\\dot{\\boldsymbol{\\mu}}_{x}|\\boldsymbol{\\mu}_x,\n",
    "  \\boldsymbol{\\mu}_\\boldsymbol{\\nu})P(\\dot{\\boldsymbol{\\mu}}_\n",
    "  \\boldsymbol{\\nu}|\\boldsymbol{\\mu}_\\boldsymbol{\\nu})) + C  \\\\ &=& -log(\n",
    "  \\mathcal{N}( g(\\boldsymbol{\\mu}_x),  e^{-\\pi}\\mathbf{I}) \\mathcal{N}(\n",
    "  f(\\boldsymbol{\\mu}_x,\\boldsymbol{\\mu}_\\nu), e^{-4}\\mathbf{I})\n",
    "  \\mathcal{N}(\\boldsymbol{\\mu}_{\\nu}, e^{-6}\\mathbf{I}) ) + C  \\\\\n",
    " \\end{array}\n",
    "$$"
   ]
  },
  {
   "cell_type": "markdown",
   "metadata": {
    "nteract": {
     "transient": {
      "deleting": false
     }
    }
   },
   "source": [
    "Gradients:\n",
    "\n",
    "$$\n",
    "\\begin{array}{lll}\n",
    "  - \\frac{\\partial F}{\\partial \\left[\\begin{matrix}\\mu_{x_i}\n",
    "    \\\\\\mu_{x_e}\\end{matrix} \\right]} &=& \\left[\\begin{matrix} -\\frac{\n",
    "    h(d\\mu_{x_i} - ( \\mu_{\\nu_i} - h \\mu_{x_i}))}{\\sigma_x} + \\frac{(s_{p} +\n",
    "    s_{s}) - (\\mu_{x_e} + 2 \\mu_{x_i}) }{\\sigma_s}\\\\ -\\frac{ h(d\\mu_{x_e} - (\n",
    "    \\mu_{\\nu_e} - h \\mu_{x_e}))}{\\sigma_x} + \\frac{s_{s} - (\\mu_{x_e} +\n",
    "    \\mu_{x_i}) }{\\sigma_s} \\end{matrix}\\right] \\\\\n",
    "  %\n",
    "  - \\frac{\\partial F}{\\partial \\left[\\begin{matrix}d\\mu_{x_i}\\\\\n",
    "    d\\mu_{x_e}\\end{matrix}\\right]} &=& \\left[\\begin{matrix} -\\frac{ d\\mu_{x_i} -\n",
    "    ( \\mu_{\\nu_i} - h \\mu_{x_i})}{\\sigma_x} \\\\ -\\frac{ d\\mu_{x_e} - (\n",
    "    \\mu_{\\nu_e} - h \\mu_{x_e})}{\\sigma_x} \\\\ \\end{matrix}\\right] \\\\\n",
    "  %\n",
    "- \\frac{\\partial F}{\\partial a} &=& - \\frac{\n",
    "  \\frac{\\partial\\operatorname{s_{p}}{\\left(a \\right)}}{\\partial a}\\left(\n",
    "  \\operatorname{s_{p}}{\\left(a \\right)} - \\mu_{x_i} \\right) +\n",
    "  \\frac{\\partial\\operatorname{s_{s}}{\\left(a \\right)}}{\\partial a}\\left(\n",
    "  \\operatorname{s_{s}}{\\left(a \\right)} - (\\mu_{x_i} + \\mu_{x_e}) \\right)\n",
    "}\n",
    "{\\sigma_s}\n",
    "\\end{array}\n",
    "$$"
   ]
  }
 ],
 "metadata": {
  "kernelspec": {
   "display_name": "Python 3",
   "language": "python",
   "name": "python3"
  },
  "language_info": {
   "codemirror_mode": {
    "name": "ipython",
    "version": 3
   },
   "file_extension": ".py",
   "mimetype": "text/x-python",
   "name": "python",
   "nbconvert_exporter": "python",
   "pygments_lexer": "ipython3",
   "version": "3.6.9"
  },
  "latex_envs": {
   "LaTeX_envs_menu_present": true,
   "autoclose": false,
   "autocomplete": true,
   "bibliofile": "biblio.bib",
   "cite_by": "apalike",
   "current_citInitial": 1,
   "eqLabelWithNumbers": true,
   "eqNumInitial": 1,
   "hotkeys": {
    "equation": "Ctrl-E",
    "itemize": "Ctrl-I"
   },
   "labels_anchors": false,
   "latex_user_defs": false,
   "report_style_numbering": false,
   "user_envs_cfg": false
  },
  "toc": {
   "nav_menu": {},
   "number_sections": true,
   "sideBar": true,
   "skip_h1_title": false,
   "title_cell": "Table of Contents",
   "title_sidebar": "Contents",
   "toc_cell": false,
   "toc_position": {},
   "toc_section_display": true,
   "toc_window_display": false
  }
 },
 "nbformat": 4,
 "nbformat_minor": 1
}
